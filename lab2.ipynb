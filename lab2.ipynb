{
 "cells": [
  {
   "cell_type": "code",
   "execution_count": 2,
   "id": "89513bbc-4791-4b6c-b859-8efab35131ed",
   "metadata": {},
   "outputs": [],
   "source": [
    "import pandas as pd"
   ]
  },
  {
   "cell_type": "code",
   "execution_count": 104,
   "id": "05091d65-55db-4c0d-82c7-32d23bdec2da",
   "metadata": {},
   "outputs": [
    {
     "name": "stdin",
     "output_type": "stream",
     "text": [
      "Enter your Student ID:  2370814\n"
     ]
    }
   ],
   "source": [
    "sid = input(\"Enter your Student ID: \")"
   ]
  },
  {
   "cell_type": "code",
   "execution_count": 106,
   "id": "7c2094f7-f936-4401-ae48-91184d654fe3",
   "metadata": {},
   "outputs": [],
   "source": [
    "lastdig = int(sid[-1])"
   ]
  },
  {
   "cell_type": "code",
   "execution_count": 108,
   "id": "fa4683a2-37d2-4b1b-b0da-6bbb759e592b",
   "metadata": {},
   "outputs": [],
   "source": [
    "n = lastdig if lastdig != 0 else 10"
   ]
  },
  {
   "cell_type": "code",
   "execution_count": 110,
   "id": "f26a7da0-4721-4fa6-b0a7-97ffe34120a1",
   "metadata": {},
   "outputs": [],
   "source": [
    "data = pd.read_csv('lab2excel.csv')"
   ]
  },
  {
   "cell_type": "code",
   "execution_count": 116,
   "id": "9ec3994c-ec3d-4b64-8fea-0340e5485a4f",
   "metadata": {},
   "outputs": [
    {
     "name": "stdout",
     "output_type": "stream",
     "text": [
      "  Relationship  hours-per-week  counts\n",
      "0     divorced              40       2\n",
      "1      married              20       1\n",
      "2      married              40       3\n",
      "3       single              20       4\n"
     ]
    }
   ],
   "source": [
    "groupby = data.groupby(['Relationship', 'hours-per-week']).size().reset_index(name='counts')\n",
    "print(groupby)"
   ]
  },
  {
   "cell_type": "code",
   "execution_count": 118,
   "id": "1e3d4334-9335-459f-b0f4-cf0402b58eb4",
   "metadata": {},
   "outputs": [],
   "source": [
    "def reducehours(row):\n",
    "    return row - n"
   ]
  },
  {
   "cell_type": "code",
   "execution_count": 120,
   "id": "1fc4b023-8416-4295-bb9a-d7833bc8480b",
   "metadata": {},
   "outputs": [],
   "source": [
    "data['reduced-hours'] = data['hours-per-week'].apply(reducehours)"
   ]
  },
  {
   "cell_type": "code",
   "execution_count": 122,
   "id": "d241a262-e912-4083-a51d-27bc3964e568",
   "metadata": {},
   "outputs": [],
   "source": [
    "finalgroupby = data.groupby(['Relationship', 'reduced-hours']).size().reset_index(name='counts')\n"
   ]
  },
  {
   "cell_type": "code",
   "execution_count": 124,
   "id": "635fc3f8-cd2a-4a6e-aa4d-48f72a1974a8",
   "metadata": {},
   "outputs": [
    {
     "name": "stdout",
     "output_type": "stream",
     "text": [
      "  Relationship  reduced-hours  counts\n",
      "0     divorced             36       2\n",
      "1      married             16       1\n",
      "2      married             36       3\n",
      "3       single             16       4\n"
     ]
    }
   ],
   "source": [
    "print(finalgroupby)"
   ]
  }
 ],
 "metadata": {
  "kernelspec": {
   "display_name": "Python 3 (ipykernel)",
   "language": "python",
   "name": "python3"
  },
  "language_info": {
   "codemirror_mode": {
    "name": "ipython",
    "version": 3
   },
   "file_extension": ".py",
   "mimetype": "text/x-python",
   "name": "python",
   "nbconvert_exporter": "python",
   "pygments_lexer": "ipython3",
   "version": "3.12.4"
  }
 },
 "nbformat": 4,
 "nbformat_minor": 5
}
