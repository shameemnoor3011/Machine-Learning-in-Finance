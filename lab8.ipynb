{
 "cells": [
  {
   "cell_type": "code",
   "execution_count": 1,
   "id": "77e736e6-732a-4ea1-8b8a-cff99752d940",
   "metadata": {},
   "outputs": [],
   "source": [
    "import numpy as np\n",
    "import pandas as pd\n",
    "\n",
    "import matplotlib.pyplot as plt\n",
    "%matplotlib inline\n",
    "\n",
    "from matplotlib import*\n",
    "import seaborn as sns"
   ]
  },
  {
   "cell_type": "code",
   "execution_count": 3,
   "id": "81fc83a8-7b03-4f12-9e67-f63794528acf",
   "metadata": {},
   "outputs": [],
   "source": [
    "bid=pd.read_csv(\"XAGUSD_5 Mins_Bid_2023.01.01_2023.06.30.csv\")\n",
    "ask=pd.read_csv(\"XAGUSD_5 Mins_Ask_2023.01.01_2023.06.30.csv\")"
   ]
  },
  {
   "cell_type": "code",
   "execution_count": 9,
   "id": "1c26087f-cb67-4dd9-8869-c6a03bde55df",
   "metadata": {},
   "outputs": [
    {
     "name": "stdout",
     "output_type": "stream",
     "text": [
      "            Time (UTC)    Open    High     Low   Close  Volume \n",
      "0  2023.01.02 23:00:00  24.102  24.125  24.083  24.125    0.351\n",
      "1  2023.01.02 23:05:00  24.094  24.188  24.094  24.141    1.155\n",
      "2  2023.01.02 23:10:00  24.143  24.148  24.022  24.027    0.882\n"
     ]
    }
   ],
   "source": [
    "print(ask.head(3))"
   ]
  },
  {
   "cell_type": "code",
   "execution_count": 7,
   "id": "fb6f1ef3-28bc-419c-a561-cbbeca280a9d",
   "metadata": {},
   "outputs": [
    {
     "name": "stdout",
     "output_type": "stream",
     "text": [
      "                Time (UTC)    Open    High     Low   Close  Volume \n",
      "35217  2023.06.30 20:45:00  22.781  22.781  22.776  22.776   0.4212\n",
      "35218  2023.06.30 20:50:00  22.776  22.797  22.774  22.786   0.6836\n",
      "35219  2023.06.30 20:55:00  22.786  22.811  22.786  22.811   0.3712\n"
     ]
    }
   ],
   "source": [
    "print(ask.tail(3))"
   ]
  },
  {
   "cell_type": "code",
   "execution_count": 11,
   "id": "7bd0a639-c571-45f5-b86f-23bfe2945dec",
   "metadata": {},
   "outputs": [
    {
     "name": "stdout",
     "output_type": "stream",
     "text": [
      "            Time (UTC)    Open    High     Low   Close  Volume \n",
      "0  2023.01.02 23:00:00  24.036  24.059  24.017  24.059   0.3480\n",
      "1  2023.01.02 23:05:00  24.064  24.130  24.064  24.092   1.8458\n",
      "2  2023.01.02 23:10:00  24.094  24.098  23.972  23.977   0.9030\n"
     ]
    }
   ],
   "source": [
    "print(bid.head(3))"
   ]
  },
  {
   "cell_type": "code",
   "execution_count": 13,
   "id": "be2a2687-51f4-4bd4-9525-0973a7d65737",
   "metadata": {},
   "outputs": [
    {
     "name": "stdout",
     "output_type": "stream",
     "text": [
      "                Time (UTC)    Open    High     Low   Close  Volume \n",
      "35217  2023.06.30 20:45:00  22.751  22.751  22.746  22.746    0.069\n",
      "35218  2023.06.30 20:50:00  22.746  22.761  22.736  22.756    0.216\n",
      "35219  2023.06.30 20:55:00  22.756  22.766  22.701  22.745    0.327\n"
     ]
    }
   ],
   "source": [
    "print(bid.tail(3))"
   ]
  },
  {
   "cell_type": "code",
   "execution_count": 23,
   "id": "ae96f508-2918-4b3c-ac1c-85abab3da3d6",
   "metadata": {},
   "outputs": [
    {
     "data": {
      "text/html": [
       "<div>\n",
       "<style scoped>\n",
       "    .dataframe tbody tr th:only-of-type {\n",
       "        vertical-align: middle;\n",
       "    }\n",
       "\n",
       "    .dataframe tbody tr th {\n",
       "        vertical-align: top;\n",
       "    }\n",
       "\n",
       "    .dataframe thead th {\n",
       "        text-align: right;\n",
       "    }\n",
       "</style>\n",
       "<table border=\"1\" class=\"dataframe\">\n",
       "  <thead>\n",
       "    <tr style=\"text-align: right;\">\n",
       "      <th></th>\n",
       "      <th>Time (UTC)</th>\n",
       "      <th>Open_x</th>\n",
       "      <th>High_x</th>\n",
       "      <th>Low_x</th>\n",
       "      <th>Close_x</th>\n",
       "      <th>Volume _x</th>\n",
       "      <th>Open_y</th>\n",
       "      <th>High_y</th>\n",
       "      <th>Low_y</th>\n",
       "      <th>Close_y</th>\n",
       "      <th>Volume _y</th>\n",
       "    </tr>\n",
       "  </thead>\n",
       "  <tbody>\n",
       "    <tr>\n",
       "      <th>0</th>\n",
       "      <td>2023.01.02 23:00:00</td>\n",
       "      <td>24.036</td>\n",
       "      <td>24.059</td>\n",
       "      <td>24.017</td>\n",
       "      <td>24.059</td>\n",
       "      <td>0.3480</td>\n",
       "      <td>24.102</td>\n",
       "      <td>24.125</td>\n",
       "      <td>24.083</td>\n",
       "      <td>24.125</td>\n",
       "      <td>0.3510</td>\n",
       "    </tr>\n",
       "    <tr>\n",
       "      <th>1</th>\n",
       "      <td>2023.01.02 23:05:00</td>\n",
       "      <td>24.064</td>\n",
       "      <td>24.130</td>\n",
       "      <td>24.064</td>\n",
       "      <td>24.092</td>\n",
       "      <td>1.8458</td>\n",
       "      <td>24.094</td>\n",
       "      <td>24.188</td>\n",
       "      <td>24.094</td>\n",
       "      <td>24.141</td>\n",
       "      <td>1.1550</td>\n",
       "    </tr>\n",
       "    <tr>\n",
       "      <th>2</th>\n",
       "      <td>2023.01.02 23:10:00</td>\n",
       "      <td>24.094</td>\n",
       "      <td>24.098</td>\n",
       "      <td>23.972</td>\n",
       "      <td>23.977</td>\n",
       "      <td>0.9030</td>\n",
       "      <td>24.143</td>\n",
       "      <td>24.148</td>\n",
       "      <td>24.022</td>\n",
       "      <td>24.027</td>\n",
       "      <td>0.8820</td>\n",
       "    </tr>\n",
       "    <tr>\n",
       "      <th>3</th>\n",
       "      <td>2023.01.02 23:15:00</td>\n",
       "      <td>23.977</td>\n",
       "      <td>23.980</td>\n",
       "      <td>23.938</td>\n",
       "      <td>23.980</td>\n",
       "      <td>0.8940</td>\n",
       "      <td>24.026</td>\n",
       "      <td>24.028</td>\n",
       "      <td>23.986</td>\n",
       "      <td>24.028</td>\n",
       "      <td>0.8940</td>\n",
       "    </tr>\n",
       "    <tr>\n",
       "      <th>4</th>\n",
       "      <td>2023.01.02 23:20:00</td>\n",
       "      <td>23.978</td>\n",
       "      <td>24.024</td>\n",
       "      <td>23.976</td>\n",
       "      <td>24.023</td>\n",
       "      <td>0.8880</td>\n",
       "      <td>24.026</td>\n",
       "      <td>24.073</td>\n",
       "      <td>24.023</td>\n",
       "      <td>24.073</td>\n",
       "      <td>0.9044</td>\n",
       "    </tr>\n",
       "    <tr>\n",
       "      <th>...</th>\n",
       "      <td>...</td>\n",
       "      <td>...</td>\n",
       "      <td>...</td>\n",
       "      <td>...</td>\n",
       "      <td>...</td>\n",
       "      <td>...</td>\n",
       "      <td>...</td>\n",
       "      <td>...</td>\n",
       "      <td>...</td>\n",
       "      <td>...</td>\n",
       "      <td>...</td>\n",
       "    </tr>\n",
       "    <tr>\n",
       "      <th>35215</th>\n",
       "      <td>2023.06.30 20:35:00</td>\n",
       "      <td>22.752</td>\n",
       "      <td>22.752</td>\n",
       "      <td>22.741</td>\n",
       "      <td>22.746</td>\n",
       "      <td>0.2752</td>\n",
       "      <td>22.782</td>\n",
       "      <td>22.782</td>\n",
       "      <td>22.771</td>\n",
       "      <td>22.776</td>\n",
       "      <td>1.8002</td>\n",
       "    </tr>\n",
       "    <tr>\n",
       "      <th>35216</th>\n",
       "      <td>2023.06.30 20:40:00</td>\n",
       "      <td>22.736</td>\n",
       "      <td>22.751</td>\n",
       "      <td>22.736</td>\n",
       "      <td>22.746</td>\n",
       "      <td>0.1410</td>\n",
       "      <td>22.775</td>\n",
       "      <td>22.781</td>\n",
       "      <td>22.775</td>\n",
       "      <td>22.776</td>\n",
       "      <td>0.7568</td>\n",
       "    </tr>\n",
       "    <tr>\n",
       "      <th>35217</th>\n",
       "      <td>2023.06.30 20:45:00</td>\n",
       "      <td>22.751</td>\n",
       "      <td>22.751</td>\n",
       "      <td>22.746</td>\n",
       "      <td>22.746</td>\n",
       "      <td>0.0690</td>\n",
       "      <td>22.781</td>\n",
       "      <td>22.781</td>\n",
       "      <td>22.776</td>\n",
       "      <td>22.776</td>\n",
       "      <td>0.4212</td>\n",
       "    </tr>\n",
       "    <tr>\n",
       "      <th>35218</th>\n",
       "      <td>2023.06.30 20:50:00</td>\n",
       "      <td>22.746</td>\n",
       "      <td>22.761</td>\n",
       "      <td>22.736</td>\n",
       "      <td>22.756</td>\n",
       "      <td>0.2160</td>\n",
       "      <td>22.776</td>\n",
       "      <td>22.797</td>\n",
       "      <td>22.774</td>\n",
       "      <td>22.786</td>\n",
       "      <td>0.6836</td>\n",
       "    </tr>\n",
       "    <tr>\n",
       "      <th>35219</th>\n",
       "      <td>2023.06.30 20:55:00</td>\n",
       "      <td>22.756</td>\n",
       "      <td>22.766</td>\n",
       "      <td>22.701</td>\n",
       "      <td>22.745</td>\n",
       "      <td>0.3270</td>\n",
       "      <td>22.786</td>\n",
       "      <td>22.811</td>\n",
       "      <td>22.786</td>\n",
       "      <td>22.811</td>\n",
       "      <td>0.3712</td>\n",
       "    </tr>\n",
       "  </tbody>\n",
       "</table>\n",
       "<p>35220 rows × 11 columns</p>\n",
       "</div>"
      ],
      "text/plain": [
       "                Time (UTC)  Open_x  High_x   Low_x  Close_x  Volume _x  \\\n",
       "0      2023.01.02 23:00:00  24.036  24.059  24.017   24.059     0.3480   \n",
       "1      2023.01.02 23:05:00  24.064  24.130  24.064   24.092     1.8458   \n",
       "2      2023.01.02 23:10:00  24.094  24.098  23.972   23.977     0.9030   \n",
       "3      2023.01.02 23:15:00  23.977  23.980  23.938   23.980     0.8940   \n",
       "4      2023.01.02 23:20:00  23.978  24.024  23.976   24.023     0.8880   \n",
       "...                    ...     ...     ...     ...      ...        ...   \n",
       "35215  2023.06.30 20:35:00  22.752  22.752  22.741   22.746     0.2752   \n",
       "35216  2023.06.30 20:40:00  22.736  22.751  22.736   22.746     0.1410   \n",
       "35217  2023.06.30 20:45:00  22.751  22.751  22.746   22.746     0.0690   \n",
       "35218  2023.06.30 20:50:00  22.746  22.761  22.736   22.756     0.2160   \n",
       "35219  2023.06.30 20:55:00  22.756  22.766  22.701   22.745     0.3270   \n",
       "\n",
       "       Open_y  High_y   Low_y  Close_y  Volume _y  \n",
       "0      24.102  24.125  24.083   24.125     0.3510  \n",
       "1      24.094  24.188  24.094   24.141     1.1550  \n",
       "2      24.143  24.148  24.022   24.027     0.8820  \n",
       "3      24.026  24.028  23.986   24.028     0.8940  \n",
       "4      24.026  24.073  24.023   24.073     0.9044  \n",
       "...       ...     ...     ...      ...        ...  \n",
       "35215  22.782  22.782  22.771   22.776     1.8002  \n",
       "35216  22.775  22.781  22.775   22.776     0.7568  \n",
       "35217  22.781  22.781  22.776   22.776     0.4212  \n",
       "35218  22.776  22.797  22.774   22.786     0.6836  \n",
       "35219  22.786  22.811  22.786   22.811     0.3712  \n",
       "\n",
       "[35220 rows x 11 columns]"
      ]
     },
     "execution_count": 23,
     "metadata": {},
     "output_type": "execute_result"
    }
   ],
   "source": [
    "merged_data=bid.merge(ask, left_on='Time (UTC)', right_on='Time (UTC)', how='outer')\n",
    "merged_data"
   ]
  },
  {
   "cell_type": "code",
   "execution_count": 25,
   "id": "af869331-ddfd-400e-a1bc-d0e1e9f4382b",
   "metadata": {},
   "outputs": [],
   "source": [
    "merged_data.columns = ['time', 'open_bid', 'high_bid', 'low_bid', 'close_bid', 'volume_bid', 'open_ask', 'high_ask', 'low_ask', 'close_ask', 'volume_ask']"
   ]
  },
  {
   "cell_type": "code",
   "execution_count": 27,
   "id": "f26102be-2b5e-4641-a145-0533ee62e4bb",
   "metadata": {},
   "outputs": [
    {
     "data": {
      "text/html": [
       "<div>\n",
       "<style scoped>\n",
       "    .dataframe tbody tr th:only-of-type {\n",
       "        vertical-align: middle;\n",
       "    }\n",
       "\n",
       "    .dataframe tbody tr th {\n",
       "        vertical-align: top;\n",
       "    }\n",
       "\n",
       "    .dataframe thead th {\n",
       "        text-align: right;\n",
       "    }\n",
       "</style>\n",
       "<table border=\"1\" class=\"dataframe\">\n",
       "  <thead>\n",
       "    <tr style=\"text-align: right;\">\n",
       "      <th></th>\n",
       "      <th>time</th>\n",
       "      <th>open_bid</th>\n",
       "      <th>high_bid</th>\n",
       "      <th>low_bid</th>\n",
       "      <th>close_bid</th>\n",
       "      <th>volume_bid</th>\n",
       "      <th>open_ask</th>\n",
       "      <th>high_ask</th>\n",
       "      <th>low_ask</th>\n",
       "      <th>close_ask</th>\n",
       "      <th>volume_ask</th>\n",
       "    </tr>\n",
       "  </thead>\n",
       "  <tbody>\n",
       "    <tr>\n",
       "      <th>0</th>\n",
       "      <td>2023.01.02 23:00:00</td>\n",
       "      <td>24.036</td>\n",
       "      <td>24.059</td>\n",
       "      <td>24.017</td>\n",
       "      <td>24.059</td>\n",
       "      <td>0.3480</td>\n",
       "      <td>24.102</td>\n",
       "      <td>24.125</td>\n",
       "      <td>24.083</td>\n",
       "      <td>24.125</td>\n",
       "      <td>0.351</td>\n",
       "    </tr>\n",
       "    <tr>\n",
       "      <th>1</th>\n",
       "      <td>2023.01.02 23:05:00</td>\n",
       "      <td>24.064</td>\n",
       "      <td>24.130</td>\n",
       "      <td>24.064</td>\n",
       "      <td>24.092</td>\n",
       "      <td>1.8458</td>\n",
       "      <td>24.094</td>\n",
       "      <td>24.188</td>\n",
       "      <td>24.094</td>\n",
       "      <td>24.141</td>\n",
       "      <td>1.155</td>\n",
       "    </tr>\n",
       "    <tr>\n",
       "      <th>2</th>\n",
       "      <td>2023.01.02 23:10:00</td>\n",
       "      <td>24.094</td>\n",
       "      <td>24.098</td>\n",
       "      <td>23.972</td>\n",
       "      <td>23.977</td>\n",
       "      <td>0.9030</td>\n",
       "      <td>24.143</td>\n",
       "      <td>24.148</td>\n",
       "      <td>24.022</td>\n",
       "      <td>24.027</td>\n",
       "      <td>0.882</td>\n",
       "    </tr>\n",
       "  </tbody>\n",
       "</table>\n",
       "</div>"
      ],
      "text/plain": [
       "                  time  open_bid  high_bid  low_bid  close_bid  volume_bid  \\\n",
       "0  2023.01.02 23:00:00    24.036    24.059   24.017     24.059      0.3480   \n",
       "1  2023.01.02 23:05:00    24.064    24.130   24.064     24.092      1.8458   \n",
       "2  2023.01.02 23:10:00    24.094    24.098   23.972     23.977      0.9030   \n",
       "\n",
       "   open_ask  high_ask  low_ask  close_ask  volume_ask  \n",
       "0    24.102    24.125   24.083     24.125       0.351  \n",
       "1    24.094    24.188   24.094     24.141       1.155  \n",
       "2    24.143    24.148   24.022     24.027       0.882  "
      ]
     },
     "execution_count": 27,
     "metadata": {},
     "output_type": "execute_result"
    }
   ],
   "source": [
    "merged_data.head(3)"
   ]
  },
  {
   "cell_type": "code",
   "execution_count": 31,
   "id": "a28cc632-3a4d-4943-95ca-76755b0a69dc",
   "metadata": {},
   "outputs": [],
   "source": [
    "file_obj2 = open('merged_data.csv', 'w')\n",
    "merged_data.to_csv('merged_data.csv', encoding='utf-8', index=False)\n",
    "file_obj2.close()"
   ]
  },
  {
   "cell_type": "code",
   "execution_count": 33,
   "id": "b6fdc456-7f9c-4b61-afc1-8891cea6705d",
   "metadata": {},
   "outputs": [],
   "source": [
    "new=pd.read_csv('merged_data.csv', low_memory=False, sep=',')"
   ]
  },
  {
   "cell_type": "code",
   "execution_count": 35,
   "id": "8987a1b7-de51-46c2-b0b5-f82534794ecd",
   "metadata": {},
   "outputs": [
    {
     "data": {
      "text/html": [
       "<div>\n",
       "<style scoped>\n",
       "    .dataframe tbody tr th:only-of-type {\n",
       "        vertical-align: middle;\n",
       "    }\n",
       "\n",
       "    .dataframe tbody tr th {\n",
       "        vertical-align: top;\n",
       "    }\n",
       "\n",
       "    .dataframe thead th {\n",
       "        text-align: right;\n",
       "    }\n",
       "</style>\n",
       "<table border=\"1\" class=\"dataframe\">\n",
       "  <thead>\n",
       "    <tr style=\"text-align: right;\">\n",
       "      <th></th>\n",
       "      <th>time</th>\n",
       "      <th>open_bid</th>\n",
       "      <th>high_bid</th>\n",
       "      <th>low_bid</th>\n",
       "      <th>close_bid</th>\n",
       "      <th>volume_bid</th>\n",
       "      <th>volume_ask</th>\n",
       "    </tr>\n",
       "  </thead>\n",
       "  <tbody>\n",
       "    <tr>\n",
       "      <th>0</th>\n",
       "      <td>2023.01.02 23:00:00</td>\n",
       "      <td>24.036</td>\n",
       "      <td>24.059</td>\n",
       "      <td>24.017</td>\n",
       "      <td>24.059</td>\n",
       "      <td>0.3480</td>\n",
       "      <td>0.351</td>\n",
       "    </tr>\n",
       "    <tr>\n",
       "      <th>1</th>\n",
       "      <td>2023.01.02 23:05:00</td>\n",
       "      <td>24.064</td>\n",
       "      <td>24.130</td>\n",
       "      <td>24.064</td>\n",
       "      <td>24.092</td>\n",
       "      <td>1.8458</td>\n",
       "      <td>1.155</td>\n",
       "    </tr>\n",
       "    <tr>\n",
       "      <th>2</th>\n",
       "      <td>2023.01.02 23:10:00</td>\n",
       "      <td>24.094</td>\n",
       "      <td>24.098</td>\n",
       "      <td>23.972</td>\n",
       "      <td>23.977</td>\n",
       "      <td>0.9030</td>\n",
       "      <td>0.882</td>\n",
       "    </tr>\n",
       "  </tbody>\n",
       "</table>\n",
       "</div>"
      ],
      "text/plain": [
       "                  time  open_bid  high_bid  low_bid  close_bid  volume_bid  \\\n",
       "0  2023.01.02 23:00:00    24.036    24.059   24.017     24.059      0.3480   \n",
       "1  2023.01.02 23:05:00    24.064    24.130   24.064     24.092      1.8458   \n",
       "2  2023.01.02 23:10:00    24.094    24.098   23.972     23.977      0.9030   \n",
       "\n",
       "   volume_ask  \n",
       "0       0.351  \n",
       "1       1.155  \n",
       "2       0.882  "
      ]
     },
     "execution_count": 35,
     "metadata": {},
     "output_type": "execute_result"
    }
   ],
   "source": [
    "new.describe()\n",
    "org=new.drop(['open_ask', 'high_ask', 'low_ask', 'close_ask'],axis=1)\n",
    "org.shape\n",
    "org.head(3)\n"
   ]
  },
  {
   "cell_type": "code",
   "execution_count": 37,
   "id": "30bbd7c1-80be-4905-b77c-33444d735bd3",
   "metadata": {},
   "outputs": [
    {
     "data": {
      "text/html": [
       "<div>\n",
       "<style scoped>\n",
       "    .dataframe tbody tr th:only-of-type {\n",
       "        vertical-align: middle;\n",
       "    }\n",
       "\n",
       "    .dataframe tbody tr th {\n",
       "        vertical-align: top;\n",
       "    }\n",
       "\n",
       "    .dataframe thead th {\n",
       "        text-align: right;\n",
       "    }\n",
       "</style>\n",
       "<table border=\"1\" class=\"dataframe\">\n",
       "  <thead>\n",
       "    <tr style=\"text-align: right;\">\n",
       "      <th></th>\n",
       "      <th>time</th>\n",
       "      <th>open_bid</th>\n",
       "      <th>high_bid</th>\n",
       "      <th>low_bid</th>\n",
       "      <th>close_bid</th>\n",
       "      <th>volume_bid</th>\n",
       "      <th>volume_ask</th>\n",
       "    </tr>\n",
       "  </thead>\n",
       "  <tbody>\n",
       "    <tr>\n",
       "      <th>0</th>\n",
       "      <td>2023-01-02 23:00:00</td>\n",
       "      <td>24.036</td>\n",
       "      <td>24.059</td>\n",
       "      <td>24.017</td>\n",
       "      <td>24.059</td>\n",
       "      <td>0.3480</td>\n",
       "      <td>0.351</td>\n",
       "    </tr>\n",
       "    <tr>\n",
       "      <th>1</th>\n",
       "      <td>2023-01-02 23:05:00</td>\n",
       "      <td>24.064</td>\n",
       "      <td>24.130</td>\n",
       "      <td>24.064</td>\n",
       "      <td>24.092</td>\n",
       "      <td>1.8458</td>\n",
       "      <td>1.155</td>\n",
       "    </tr>\n",
       "    <tr>\n",
       "      <th>2</th>\n",
       "      <td>2023-01-02 23:10:00</td>\n",
       "      <td>24.094</td>\n",
       "      <td>24.098</td>\n",
       "      <td>23.972</td>\n",
       "      <td>23.977</td>\n",
       "      <td>0.9030</td>\n",
       "      <td>0.882</td>\n",
       "    </tr>\n",
       "  </tbody>\n",
       "</table>\n",
       "</div>"
      ],
      "text/plain": [
       "                 time  open_bid  high_bid  low_bid  close_bid  volume_bid  \\\n",
       "0 2023-01-02 23:00:00    24.036    24.059   24.017     24.059      0.3480   \n",
       "1 2023-01-02 23:05:00    24.064    24.130   24.064     24.092      1.8458   \n",
       "2 2023-01-02 23:10:00    24.094    24.098   23.972     23.977      0.9030   \n",
       "\n",
       "   volume_ask  \n",
       "0       0.351  \n",
       "1       1.155  \n",
       "2       0.882  "
      ]
     },
     "execution_count": 37,
     "metadata": {},
     "output_type": "execute_result"
    }
   ],
   "source": [
    "org['time'] = pd.to_datetime(org['time'])\n",
    "org.head(3)"
   ]
  },
  {
   "cell_type": "code",
   "execution_count": 41,
   "id": "fe045ac4-fe37-4e8c-b877-0d4baea7f1c7",
   "metadata": {},
   "outputs": [
    {
     "data": {
      "image/png": "[encoded data removed]",
      "text/plain": [
       "<Figure size 1200x600 with 1 Axes>"
      ]
     },
     "metadata": {},
     "output_type": "display_data"
    }
   ],
   "source": [
    "\n",
    "plt.figure(figsize=(12,6))\n",
    "plt.plot(org['close_bid'])\n",
    "plt.title('SILVER close price, 2023')\n",
    "plt.xlabel('N minutes')\n",
    "plt.ylabel('Close Price')\n",
    "plt.show()"
   ]
  },
  {
   "cell_type": "code",
   "execution_count": null,
   "id": "ca749552-0b04-41d5-9b8a-e6a4ce4a34e2",
   "metadata": {},
   "outputs": [],
   "source": []
  },
  {
   "cell_type": "code",
   "execution_count": 43,
   "id": "63803abd-c02b-426e-a22a-0f9e326406d2",
   "metadata": {},
   "outputs": [
    {
     "data": {
      "image/png": "[encoded data removed]",
      "text/plain": [
       "<Figure size 1200x600 with 1 Axes>"
      ]
     },
     "metadata": {},
     "output_type": "display_data"
    }
   ],
   "source": [
    "\n",
    "plt.figure(figsize=(12,6))\n",
    "plt.plot(org['volume_bid'])\n",
    "plt.title('SILVER close Volume, 2023')\n",
    "plt.xlabel('N minutes')\n",
    "plt.ylabel('Close Volume')\n",
    "plt.show()"
   ]
  },
  {
   "cell_type": "code",
   "execution_count": 45,
   "id": "9fc63631-a0a8-42ba-8c05-267db8173b94",
   "metadata": {},
   "outputs": [
    {
     "name": "stdout",
     "output_type": "stream",
     "text": [
      "                 time  open_bid  high_bid   low_bid  close_bid  volume_bid  \\\n",
      "0 2023-01-02 23:00:00  0.665542  0.667579  0.664895   0.669237    0.002884   \n",
      "1 2023-01-02 23:05:00  0.670040  0.679014  0.672464   0.674538    0.015299   \n",
      "2 2023-01-02 23:10:00  0.674859  0.673861  0.657649   0.656064    0.007484   \n",
      "3 2023-01-02 23:15:00  0.656064  0.654856  0.652174   0.656546    0.007410   \n",
      "4 2023-01-02 23:20:00  0.656225  0.661942  0.658293   0.663454    0.007360   \n",
      "\n",
      "   volume_ask  \n",
      "0    0.000960  \n",
      "1    0.003159  \n",
      "2    0.002412  \n",
      "3    0.002445  \n",
      "4    0.002474  \n"
     ]
    }
   ],
   "source": [
    "from sklearn.preprocessing import MinMaxScaler, StandardScaler\n",
    "columns_float = ['open_bid', 'high_bid', 'low_bid', 'close_bid', 'volume_bid', 'volume_ask']\n",
    "scaler = MinMaxScaler()\n",
    "org[columns_float] = scaler.fit_transform(org[columns_float])\n",
    "print(org.head())"
   ]
  },
  {
   "cell_type": "code",
   "execution_count": 47,
   "id": "e78edb58-7808-4e49-9d50-1cfde8d96e3e",
   "metadata": {},
   "outputs": [
    {
     "data": {
      "text/html": [
       "<div>\n",
       "<style scoped>\n",
       "    .dataframe tbody tr th:only-of-type {\n",
       "        vertical-align: middle;\n",
       "    }\n",
       "\n",
       "    .dataframe tbody tr th {\n",
       "        vertical-align: top;\n",
       "    }\n",
       "\n",
       "    .dataframe thead th {\n",
       "        text-align: right;\n",
       "    }\n",
       "</style>\n",
       "<table border=\"1\" class=\"dataframe\">\n",
       "  <thead>\n",
       "    <tr style=\"text-align: right;\">\n",
       "      <th></th>\n",
       "      <th>time</th>\n",
       "      <th>open_bid</th>\n",
       "      <th>high_bid</th>\n",
       "      <th>low_bid</th>\n",
       "      <th>close_bid</th>\n",
       "      <th>volume_bid</th>\n",
       "      <th>volume_ask</th>\n",
       "    </tr>\n",
       "  </thead>\n",
       "  <tbody>\n",
       "    <tr>\n",
       "      <th>count</th>\n",
       "      <td>35220</td>\n",
       "      <td>35220.000000</td>\n",
       "      <td>35220.000000</td>\n",
       "      <td>35220.000000</td>\n",
       "      <td>35220.000000</td>\n",
       "      <td>35220.000000</td>\n",
       "      <td>35220.000000</td>\n",
       "    </tr>\n",
       "    <tr>\n",
       "      <th>mean</th>\n",
       "      <td>2023-04-02 13:17:53.202725888</td>\n",
       "      <td>0.556525</td>\n",
       "      <td>0.557354</td>\n",
       "      <td>0.555626</td>\n",
       "      <td>0.556525</td>\n",
       "      <td>0.068654</td>\n",
       "      <td>0.095985</td>\n",
       "    </tr>\n",
       "    <tr>\n",
       "      <th>min</th>\n",
       "      <td>2023-01-02 23:00:00</td>\n",
       "      <td>0.000000</td>\n",
       "      <td>0.000000</td>\n",
       "      <td>0.000000</td>\n",
       "      <td>0.000000</td>\n",
       "      <td>0.000000</td>\n",
       "      <td>0.000000</td>\n",
       "    </tr>\n",
       "    <tr>\n",
       "      <th>25%</th>\n",
       "      <td>2023-02-16 00:43:45</td>\n",
       "      <td>0.406225</td>\n",
       "      <td>0.406829</td>\n",
       "      <td>0.404509</td>\n",
       "      <td>0.406104</td>\n",
       "      <td>0.021641</td>\n",
       "      <td>0.025894</td>\n",
       "    </tr>\n",
       "    <tr>\n",
       "      <th>50%</th>\n",
       "      <td>2023-03-31 20:27:30</td>\n",
       "      <td>0.589076</td>\n",
       "      <td>0.589789</td>\n",
       "      <td>0.588567</td>\n",
       "      <td>0.589076</td>\n",
       "      <td>0.044186</td>\n",
       "      <td>0.060819</td>\n",
       "    </tr>\n",
       "    <tr>\n",
       "      <th>75%</th>\n",
       "      <td>2023-05-17 18:11:15</td>\n",
       "      <td>0.679357</td>\n",
       "      <td>0.681269</td>\n",
       "      <td>0.678744</td>\n",
       "      <td>0.679357</td>\n",
       "      <td>0.088571</td>\n",
       "      <td>0.127558</td>\n",
       "    </tr>\n",
       "    <tr>\n",
       "      <th>max</th>\n",
       "      <td>2023-06-30 20:55:00</td>\n",
       "      <td>1.000000</td>\n",
       "      <td>1.000000</td>\n",
       "      <td>1.000000</td>\n",
       "      <td>1.000000</td>\n",
       "      <td>1.000000</td>\n",
       "      <td>1.000000</td>\n",
       "    </tr>\n",
       "    <tr>\n",
       "      <th>std</th>\n",
       "      <td>NaN</td>\n",
       "      <td>0.219885</td>\n",
       "      <td>0.220458</td>\n",
       "      <td>0.220439</td>\n",
       "      <td>0.219898</td>\n",
       "      <td>0.074399</td>\n",
       "      <td>0.106733</td>\n",
       "    </tr>\n",
       "  </tbody>\n",
       "</table>\n",
       "</div>"
      ],
      "text/plain": [
       "                                time      open_bid      high_bid  \\\n",
       "count                          35220  35220.000000  35220.000000   \n",
       "mean   2023-04-02 13:17:53.202725888      0.556525      0.557354   \n",
       "min              2023-01-02 23:00:00      0.000000      0.000000   \n",
       "25%              2023-02-16 00:43:45      0.406225      0.406829   \n",
       "50%              2023-03-31 20:27:30      0.589076      0.589789   \n",
       "75%              2023-05-17 18:11:15      0.679357      0.681269   \n",
       "max              2023-06-30 20:55:00      1.000000      1.000000   \n",
       "std                              NaN      0.219885      0.220458   \n",
       "\n",
       "            low_bid     close_bid    volume_bid    volume_ask  \n",
       "count  35220.000000  35220.000000  35220.000000  35220.000000  \n",
       "mean       0.555626      0.556525      0.068654      0.095985  \n",
       "min        0.000000      0.000000      0.000000      0.000000  \n",
       "25%        0.404509      0.406104      0.021641      0.025894  \n",
       "50%        0.588567      0.589076      0.044186      0.060819  \n",
       "75%        0.678744      0.679357      0.088571      0.127558  \n",
       "max        1.000000      1.000000      1.000000      1.000000  \n",
       "std        0.220439      0.219898      0.074399      0.106733  "
      ]
     },
     "execution_count": 47,
     "metadata": {},
     "output_type": "execute_result"
    }
   ],
   "source": [
    "org.describe()"
   ]
  },
  {
   "cell_type": "code",
   "execution_count": 49,
   "id": "dde9ebd4-45ab-4fdd-8027-c7b82f70ef43",
   "metadata": {},
   "outputs": [
    {
     "data": {
      "text/plain": [
       "(35220, 7)"
      ]
     },
     "execution_count": 49,
     "metadata": {},
     "output_type": "execute_result"
    }
   ],
   "source": [
    "org.shape"
   ]
  },
  {
   "cell_type": "code",
   "execution_count": 51,
   "id": "c22a13b2-6459-4fc3-8f16-04536c111d62",
   "metadata": {},
   "outputs": [
    {
     "data": {
      "text/html": [
       "<div>\n",
       "<style scoped>\n",
       "    .dataframe tbody tr th:only-of-type {\n",
       "        vertical-align: middle;\n",
       "    }\n",
       "\n",
       "    .dataframe tbody tr th {\n",
       "        vertical-align: top;\n",
       "    }\n",
       "\n",
       "    .dataframe thead th {\n",
       "        text-align: right;\n",
       "    }\n",
       "</style>\n",
       "<table border=\"1\" class=\"dataframe\">\n",
       "  <thead>\n",
       "    <tr style=\"text-align: right;\">\n",
       "      <th></th>\n",
       "      <th>time</th>\n",
       "      <th>open_bid</th>\n",
       "      <th>high_bid</th>\n",
       "      <th>low_bid</th>\n",
       "      <th>close_bid</th>\n",
       "      <th>volume_bid</th>\n",
       "      <th>volume_ask</th>\n",
       "      <th>high_bid_shifted_next</th>\n",
       "      <th>low_bid_shifted_next</th>\n",
       "    </tr>\n",
       "  </thead>\n",
       "  <tbody>\n",
       "    <tr>\n",
       "      <th>0</th>\n",
       "      <td>2023-01-02 23:00:00</td>\n",
       "      <td>0.665542</td>\n",
       "      <td>0.667579</td>\n",
       "      <td>0.664895</td>\n",
       "      <td>0.669237</td>\n",
       "      <td>0.002884</td>\n",
       "      <td>0.000960</td>\n",
       "      <td>0.679014</td>\n",
       "      <td>0.672464</td>\n",
       "    </tr>\n",
       "    <tr>\n",
       "      <th>1</th>\n",
       "      <td>2023-01-02 23:05:00</td>\n",
       "      <td>0.670040</td>\n",
       "      <td>0.679014</td>\n",
       "      <td>0.672464</td>\n",
       "      <td>0.674538</td>\n",
       "      <td>0.015299</td>\n",
       "      <td>0.003159</td>\n",
       "      <td>0.673861</td>\n",
       "      <td>0.657649</td>\n",
       "    </tr>\n",
       "    <tr>\n",
       "      <th>2</th>\n",
       "      <td>2023-01-02 23:10:00</td>\n",
       "      <td>0.674859</td>\n",
       "      <td>0.673861</td>\n",
       "      <td>0.657649</td>\n",
       "      <td>0.656064</td>\n",
       "      <td>0.007484</td>\n",
       "      <td>0.002412</td>\n",
       "      <td>0.654856</td>\n",
       "      <td>0.652174</td>\n",
       "    </tr>\n",
       "  </tbody>\n",
       "</table>\n",
       "</div>"
      ],
      "text/plain": [
       "                 time  open_bid  high_bid   low_bid  close_bid  volume_bid  \\\n",
       "0 2023-01-02 23:00:00  0.665542  0.667579  0.664895   0.669237    0.002884   \n",
       "1 2023-01-02 23:05:00  0.670040  0.679014  0.672464   0.674538    0.015299   \n",
       "2 2023-01-02 23:10:00  0.674859  0.673861  0.657649   0.656064    0.007484   \n",
       "\n",
       "   volume_ask  high_bid_shifted_next  low_bid_shifted_next  \n",
       "0    0.000960               0.679014              0.672464  \n",
       "1    0.003159               0.673861              0.657649  \n",
       "2    0.002412               0.654856              0.652174  "
      ]
     },
     "execution_count": 51,
     "metadata": {},
     "output_type": "execute_result"
    }
   ],
   "source": [
    "\n",
    "org['high_bid_shifted_next'] = org['high_bid'].shift(-1)\n",
    "org['low_bid_shifted_next'] = org['low_bid'].shift(-1)\n",
    "org.head(3)\n"
   ]
  },
  {
   "cell_type": "code",
   "execution_count": 53,
   "id": "1ba98ac7-85ef-42fe-a7ce-6a3653a70c0d",
   "metadata": {},
   "outputs": [],
   "source": [
    "import numpy as np"
   ]
  },
  {
   "cell_type": "code",
   "execution_count": 55,
   "id": "35f768f0-cd26-4ab3-b3ce-8ed1b9965c73",
   "metadata": {},
   "outputs": [],
   "source": [
    "input_columns = ['open_bid', 'high_bid', 'low_bid', 'volume_bid', 'volume_ask', \n",
    "                 'high_bid_shifted_next', 'low_bid_shifted_next']\n",
    "output_column = 'close_bid'"
   ]
  },
  {
   "cell_type": "code",
   "execution_count": 57,
   "id": "e85ca973-b2a0-4a02-b918-56b4295be9ce",
   "metadata": {},
   "outputs": [],
   "source": [
    "X = org[input_columns].values \n",
    "y = org[output_column].values \n",
    "X = X.reshape(X.shape[0], X.shape[1], 1)"
   ]
  },
  {
   "cell_type": "code",
   "execution_count": 59,
   "id": "086baa2e-d7d4-4909-88aa-7301ac2dc630",
   "metadata": {},
   "outputs": [
    {
     "name": "stdout",
     "output_type": "stream",
     "text": [
      "Input shape (X): (35220, 7, 1)\n",
      "Output shape (y): (35220,)\n"
     ]
    }
   ],
   "source": [
    "print(f\"Input shape (X): {X.shape}\")\n",
    "print(f\"Output shape (y): {y.shape}\")"
   ]
  },
  {
   "cell_type": "code",
   "execution_count": 63,
   "id": "55fd258a-7ca2-4e0e-b724-40a145a9a6ed",
   "metadata": {},
   "outputs": [],
   "source": [
    "from keras.models import Sequential\n",
    "from keras.layers import Conv1D, MaxPooling1D, Flatten, Dense\n",
    "import matplotlib.pyplot as plt\n"
   ]
  },
  {
   "cell_type": "code",
   "execution_count": 64,
   "id": "3a724374-41ed-4ed4-aebc-907ed753aafd",
   "metadata": {},
   "outputs": [
    {
     "name": "stderr",
     "output_type": "stream",
     "text": [
      "D:\\SHAMEEM\\anaconda\\Lib\\site-packages\\keras\\src\\layers\\convolutional\\base_conv.py:107: UserWarning: Do not pass an `input_shape`/`input_dim` argument to a layer. When using Sequential models, prefer using an `Input(shape)` object as the first layer in the model instead.\n",
      "  super().__init__(activity_regularizer=activity_regularizer, **kwargs)\n"
     ]
    },
    {
     "data": {
      "text/html": [
       "<pre style=\"white-space:pre;overflow-x:auto;line-height:normal;font-family:Menlo,'DejaVu Sans Mono',consolas,'Courier New',monospace\"><span style=\"font-weight: bold\">Model: \"sequential\"</span>\n",
       "</pre>\n"
      ],
      "text/plain": [
       "\u001b[1mModel: \"sequential\"\u001b[0m\n"
      ]
     },
     "metadata": {},
     "output_type": "display_data"
    },
    {
     "data": {
      "text/html": [
       "<pre style=\"white-space:pre;overflow-x:auto;line-height:normal;font-family:Menlo,'DejaVu Sans Mono',consolas,'Courier New',monospace\">┏━━━━━━━━━━━━━━━━━━━━━━━━━━━━━━━━━━━━━━┳━━━━━━━━━━━━━━━━━━━━━━━━━━━━━┳━━━━━━━━━━━━━━━━━┓\n",
       "┃<span style=\"font-weight: bold\"> Layer (type)                         </span>┃<span style=\"font-weight: bold\"> Output Shape                </span>┃<span style=\"font-weight: bold\">         Param # </span>┃\n",
       "┡━━━━━━━━━━━━━━━━━━━━━━━━━━━━━━━━━━━━━━╇━━━━━━━━━━━━━━━━━━━━━━━━━━━━━╇━━━━━━━━━━━━━━━━━┩\n",
       "│ conv1d (<span style=\"color: #0087ff; text-decoration-color: #0087ff\">Conv1D</span>)                      │ (<span style=\"color: #00d7ff; text-decoration-color: #00d7ff\">None</span>, <span style=\"color: #00af00; text-decoration-color: #00af00\">5</span>, <span style=\"color: #00af00; text-decoration-color: #00af00\">64</span>)               │             <span style=\"color: #00af00; text-decoration-color: #00af00\">256</span> │\n",
       "├──────────────────────────────────────┼─────────────────────────────┼─────────────────┤\n",
       "│ conv1d_1 (<span style=\"color: #0087ff; text-decoration-color: #0087ff\">Conv1D</span>)                    │ (<span style=\"color: #00d7ff; text-decoration-color: #00d7ff\">None</span>, <span style=\"color: #00af00; text-decoration-color: #00af00\">3</span>, <span style=\"color: #00af00; text-decoration-color: #00af00\">32</span>)               │           <span style=\"color: #00af00; text-decoration-color: #00af00\">6,176</span> │\n",
       "├──────────────────────────────────────┼─────────────────────────────┼─────────────────┤\n",
       "│ max_pooling1d (<span style=\"color: #0087ff; text-decoration-color: #0087ff\">MaxPooling1D</span>)         │ (<span style=\"color: #00d7ff; text-decoration-color: #00d7ff\">None</span>, <span style=\"color: #00af00; text-decoration-color: #00af00\">1</span>, <span style=\"color: #00af00; text-decoration-color: #00af00\">32</span>)               │               <span style=\"color: #00af00; text-decoration-color: #00af00\">0</span> │\n",
       "├──────────────────────────────────────┼─────────────────────────────┼─────────────────┤\n",
       "│ flatten (<span style=\"color: #0087ff; text-decoration-color: #0087ff\">Flatten</span>)                    │ (<span style=\"color: #00d7ff; text-decoration-color: #00d7ff\">None</span>, <span style=\"color: #00af00; text-decoration-color: #00af00\">32</span>)                  │               <span style=\"color: #00af00; text-decoration-color: #00af00\">0</span> │\n",
       "├──────────────────────────────────────┼─────────────────────────────┼─────────────────┤\n",
       "│ dense (<span style=\"color: #0087ff; text-decoration-color: #0087ff\">Dense</span>)                        │ (<span style=\"color: #00d7ff; text-decoration-color: #00d7ff\">None</span>, <span style=\"color: #00af00; text-decoration-color: #00af00\">50</span>)                  │           <span style=\"color: #00af00; text-decoration-color: #00af00\">1,650</span> │\n",
       "├──────────────────────────────────────┼─────────────────────────────┼─────────────────┤\n",
       "│ dense_1 (<span style=\"color: #0087ff; text-decoration-color: #0087ff\">Dense</span>)                      │ (<span style=\"color: #00d7ff; text-decoration-color: #00d7ff\">None</span>, <span style=\"color: #00af00; text-decoration-color: #00af00\">1</span>)                   │              <span style=\"color: #00af00; text-decoration-color: #00af00\">51</span> │\n",
       "└──────────────────────────────────────┴─────────────────────────────┴─────────────────┘\n",
       "</pre>\n"
      ],
      "text/plain": [
       "┏━━━━━━━━━━━━━━━━━━━━━━━━━━━━━━━━━━━━━━┳━━━━━━━━━━━━━━━━━━━━━━━━━━━━━┳━━━━━━━━━━━━━━━━━┓\n",
       "┃\u001b[1m \u001b[0m\u001b[1mLayer (type)                        \u001b[0m\u001b[1m \u001b[0m┃\u001b[1m \u001b[0m\u001b[1mOutput Shape               \u001b[0m\u001b[1m \u001b[0m┃\u001b[1m \u001b[0m\u001b[1m        Param #\u001b[0m\u001b[1m \u001b[0m┃\n",
       "┡━━━━━━━━━━━━━━━━━━━━━━━━━━━━━━━━━━━━━━╇━━━━━━━━━━━━━━━━━━━━━━━━━━━━━╇━━━━━━━━━━━━━━━━━┩\n",
       "│ conv1d (\u001b[38;5;33mConv1D\u001b[0m)                      │ (\u001b[38;5;45mNone\u001b[0m, \u001b[38;5;34m5\u001b[0m, \u001b[38;5;34m64\u001b[0m)               │             \u001b[38;5;34m256\u001b[0m │\n",
       "├──────────────────────────────────────┼─────────────────────────────┼─────────────────┤\n",
       "│ conv1d_1 (\u001b[38;5;33mConv1D\u001b[0m)                    │ (\u001b[38;5;45mNone\u001b[0m, \u001b[38;5;34m3\u001b[0m, \u001b[38;5;34m32\u001b[0m)               │           \u001b[38;5;34m6,176\u001b[0m │\n",
       "├──────────────────────────────────────┼─────────────────────────────┼─────────────────┤\n",
       "│ max_pooling1d (\u001b[38;5;33mMaxPooling1D\u001b[0m)         │ (\u001b[38;5;45mNone\u001b[0m, \u001b[38;5;34m1\u001b[0m, \u001b[38;5;34m32\u001b[0m)               │               \u001b[38;5;34m0\u001b[0m │\n",
       "├──────────────────────────────────────┼─────────────────────────────┼─────────────────┤\n",
       "│ flatten (\u001b[38;5;33mFlatten\u001b[0m)                    │ (\u001b[38;5;45mNone\u001b[0m, \u001b[38;5;34m32\u001b[0m)                  │               \u001b[38;5;34m0\u001b[0m │\n",
       "├──────────────────────────────────────┼─────────────────────────────┼─────────────────┤\n",
       "│ dense (\u001b[38;5;33mDense\u001b[0m)                        │ (\u001b[38;5;45mNone\u001b[0m, \u001b[38;5;34m50\u001b[0m)                  │           \u001b[38;5;34m1,650\u001b[0m │\n",
       "├──────────────────────────────────────┼─────────────────────────────┼─────────────────┤\n",
       "│ dense_1 (\u001b[38;5;33mDense\u001b[0m)                      │ (\u001b[38;5;45mNone\u001b[0m, \u001b[38;5;34m1\u001b[0m)                   │              \u001b[38;5;34m51\u001b[0m │\n",
       "└──────────────────────────────────────┴─────────────────────────────┴─────────────────┘\n"
      ]
     },
     "metadata": {},
     "output_type": "display_data"
    },
    {
     "data": {
      "text/html": [
       "<pre style=\"white-space:pre;overflow-x:auto;line-height:normal;font-family:Menlo,'DejaVu Sans Mono',consolas,'Courier New',monospace\"><span style=\"font-weight: bold\"> Total params: </span><span style=\"color: #00af00; text-decoration-color: #00af00\">8,133</span> (31.77 KB)\n",
       "</pre>\n"
      ],
      "text/plain": [
       "\u001b[1m Total params: \u001b[0m\u001b[38;5;34m8,133\u001b[0m (31.77 KB)\n"
      ]
     },
     "metadata": {},
     "output_type": "display_data"
    },
    {
     "data": {
      "text/html": [
       "<pre style=\"white-space:pre;overflow-x:auto;line-height:normal;font-family:Menlo,'DejaVu Sans Mono',consolas,'Courier New',monospace\"><span style=\"font-weight: bold\"> Trainable params: </span><span style=\"color: #00af00; text-decoration-color: #00af00\">8,133</span> (31.77 KB)\n",
       "</pre>\n"
      ],
      "text/plain": [
       "\u001b[1m Trainable params: \u001b[0m\u001b[38;5;34m8,133\u001b[0m (31.77 KB)\n"
      ]
     },
     "metadata": {},
     "output_type": "display_data"
    },
    {
     "data": {
      "text/html": [
       "<pre style=\"white-space:pre;overflow-x:auto;line-height:normal;font-family:Menlo,'DejaVu Sans Mono',consolas,'Courier New',monospace\"><span style=\"font-weight: bold\"> Non-trainable params: </span><span style=\"color: #00af00; text-decoration-color: #00af00\">0</span> (0.00 B)\n",
       "</pre>\n"
      ],
      "text/plain": [
       "\u001b[1m Non-trainable params: \u001b[0m\u001b[38;5;34m0\u001b[0m (0.00 B)\n"
      ]
     },
     "metadata": {},
     "output_type": "display_data"
    },
    {
     "name": "stdout",
     "output_type": "stream",
     "text": [
      "None\n"
     ]
    }
   ],
   "source": [
    "model = Sequential()\n",
    "model.add(Conv1D(filters=64, kernel_size=3, activation='relu', input_shape=(X.shape[1], X.shape[2])))\n",
    "model.add(Conv1D(filters=32, kernel_size=3, activation='relu'))\n",
    "model.add(MaxPooling1D(pool_size=2))\n",
    "model.add(Flatten())\n",
    "model.add(Dense(units=50, activation='relu'))\n",
    "model.add(Dense(units=1))\n",
    "print(model.summary())"
   ]
  },
  {
   "cell_type": "code",
   "execution_count": 69,
   "id": "39f3a0b6-941a-46c2-9f75-fe555a86f94d",
   "metadata": {},
   "outputs": [],
   "source": [
    "model.compile(optimizer='adam', loss='mean_squared_error', metrics=['mae'])"
   ]
  },
  {
   "cell_type": "code",
   "execution_count": 71,
   "id": "9c345036-f362-4acf-9f59-c9a1ba27d94c",
   "metadata": {},
   "outputs": [
    {
     "name": "stdout",
     "output_type": "stream",
     "text": [
      "Epoch 1/10\n",
      "\u001b[1m881/881\u001b[0m \u001b[32m━━━━━━━━━━━━━━━━━━━━\u001b[0m\u001b[37m\u001b[0m \u001b[1m5s\u001b[0m 3ms/step - loss: 0.0138 - mae: 0.0408 - val_loss: 4.7452e-06 - val_mae: 0.0014\n",
      "Epoch 2/10\n",
      "\u001b[1m881/881\u001b[0m \u001b[32m━━━━━━━━━━━━━━━━━━━━\u001b[0m\u001b[37m\u001b[0m \u001b[1m2s\u001b[0m 3ms/step - loss: 7.8034e-06 - mae: 0.0020 - val_loss: 5.1014e-06 - val_mae: 0.0015\n",
      "Epoch 3/10\n",
      "\u001b[1m881/881\u001b[0m \u001b[32m━━━━━━━━━━━━━━━━━━━━\u001b[0m\u001b[37m\u001b[0m \u001b[1m2s\u001b[0m 3ms/step - loss: 8.0553e-06 - mae: 0.0021 - val_loss: 8.3385e-06 - val_mae: 0.0023\n",
      "Epoch 4/10\n",
      "\u001b[1m881/881\u001b[0m \u001b[32m━━━━━━━━━━━━━━━━━━━━\u001b[0m\u001b[37m\u001b[0m \u001b[1m2s\u001b[0m 3ms/step - loss: 8.4865e-06 - mae: 0.0022 - val_loss: 7.5338e-06 - val_mae: 0.0022\n",
      "Epoch 5/10\n",
      "\u001b[1m881/881\u001b[0m \u001b[32m━━━━━━━━━━━━━━━━━━━━\u001b[0m\u001b[37m\u001b[0m \u001b[1m2s\u001b[0m 3ms/step - loss: 1.0986e-05 - mae: 0.0025 - val_loss: 7.3274e-06 - val_mae: 0.0020\n",
      "Epoch 6/10\n",
      "\u001b[1m881/881\u001b[0m \u001b[32m━━━━━━━━━━━━━━━━━━━━\u001b[0m\u001b[37m\u001b[0m \u001b[1m2s\u001b[0m 3ms/step - loss: 1.1591e-05 - mae: 0.0026 - val_loss: 9.8569e-06 - val_mae: 0.0026\n",
      "Epoch 7/10\n",
      "\u001b[1m881/881\u001b[0m \u001b[32m━━━━━━━━━━━━━━━━━━━━\u001b[0m\u001b[37m\u001b[0m \u001b[1m2s\u001b[0m 2ms/step - loss: 9.6248e-06 - mae: 0.0024 - val_loss: 6.5847e-06 - val_mae: 0.0019\n",
      "Epoch 8/10\n",
      "\u001b[1m881/881\u001b[0m \u001b[32m━━━━━━━━━━━━━━━━━━━━\u001b[0m\u001b[37m\u001b[0m \u001b[1m2s\u001b[0m 3ms/step - loss: 1.0651e-05 - mae: 0.0024 - val_loss: 1.1517e-05 - val_mae: 0.0028\n",
      "Epoch 9/10\n",
      "\u001b[1m881/881\u001b[0m \u001b[32m━━━━━━━━━━━━━━━━━━━━\u001b[0m\u001b[37m\u001b[0m \u001b[1m2s\u001b[0m 3ms/step - loss: 1.2442e-05 - mae: 0.0027 - val_loss: 7.9038e-06 - val_mae: 0.0023\n",
      "Epoch 10/10\n",
      "\u001b[1m881/881\u001b[0m \u001b[32m━━━━━━━━━━━━━━━━━━━━\u001b[0m\u001b[37m\u001b[0m \u001b[1m2s\u001b[0m 3ms/step - loss: 1.1652e-05 - mae: 0.0026 - val_loss: 9.4299e-06 - val_mae: 0.0026\n"
     ]
    }
   ],
   "source": [
    "history = model.fit(X, y, epochs=10, batch_size=32, validation_split=0.2)"
   ]
  },
  {
   "cell_type": "code",
   "execution_count": 73,
   "id": "8fea4974-d2de-4050-ac9d-71b71990e4e1",
   "metadata": {},
   "outputs": [
    {
     "name": "stdout",
     "output_type": "stream",
     "text": [
      "Final MSE: 1.162682383437641e-05\n",
      "Final MAE: 0.002583085559308529\n"
     ]
    }
   ],
   "source": [
    "final_mse = history.history['loss'][-1] \n",
    "final_mae = history.history['mae'][-1] \n",
    "print(f\"Final MSE: {final_mse}\")\n",
    "print(f\"Final MAE: {final_mae}\")"
   ]
  },
  {
   "cell_type": "code",
   "execution_count": 75,
   "id": "f591af1a-5a9c-4e25-b611-51faf90719e3",
   "metadata": {},
   "outputs": [
    {
     "data": {
      "text/plain": [
       "<matplotlib.legend.Legend at 0x2059df54290>"
      ]
     },
     "execution_count": 75,
     "metadata": {},
     "output_type": "execute_result"
    },
    {
     "data": {
      "image/png": "[encoded data removed]",
      "text/plain": [
       "<Figure size 1200x600 with 1 Axes>"
      ]
     },
     "metadata": {},
     "output_type": "display_data"
    }
   ],
   "source": [
    "plt.figure(figsize=(12, 6))\n",
    "plt.subplot(1, 2, 1)\n",
    "plt.plot(history.history['loss'], label='Train MSE')\n",
    "plt.plot(history.history['val_loss'], label='Validation MSE', linestyle='--')\n",
    "plt.title('Model Loss (MSE)')\n",
    "plt.xlabel('Epochs')\n",
    "plt.ylabel('MSE')\n",
    "plt.legend()"
   ]
  },
  {
   "cell_type": "code",
   "execution_count": 77,
   "id": "30e3142a-8a2e-480b-b885-adb3fdb1c23e",
   "metadata": {},
   "outputs": [
    {
     "data": {
      "image/png": "[encoded data removed]",
      "text/plain": [
       "<Figure size 640x480 with 1 Axes>"
      ]
     },
     "metadata": {},
     "output_type": "display_data"
    }
   ],
   "source": [
    "plt.subplot(1, 2, 2)\n",
    "plt.plot(history.history['mae'], label='Train MAE')\n",
    "plt.plot(history.history['val_mae'], label='Validation MAE', linestyle='--')\n",
    "plt.title('Model MAE')\n",
    "plt.xlabel('Epochs')\n",
    "plt.ylabel('MAE')\n",
    "plt.legend()\n",
    "\n",
    "plt.tight_layout()\n",
    "plt.show()"
   ]
  },
  {
   "cell_type": "code",
   "execution_count": null,
   "id": "23ca0fea-6f97-4e96-964f-2d8ebf7ff4e5",
   "metadata": {},
   "outputs": [],
   "source": []
  }
 ],
 "metadata": {
  "kernelspec": {
   "display_name": "Python 3 (ipykernel)",
   "language": "python",
   "name": "python3"
  },
  "language_info": {
   "codemirror_mode": {
    "name": "ipython",
    "version": 3
   },
   "file_extension": ".py",
   "mimetype": "text/x-python",
   "name": "python",
   "nbconvert_exporter": "python",
   "pygments_lexer": "ipython3",
   "version": "3.12.4"
  }
 },
 "nbformat": 4,
 "nbformat_minor": 5
}
