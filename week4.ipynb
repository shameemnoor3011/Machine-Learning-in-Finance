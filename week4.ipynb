{
 "cells": [
  {
   "cell_type": "code",
   "execution_count": 82,
   "id": "653b25a0-2da3-4792-82c1-31430ac50283",
   "metadata": {},
   "outputs": [],
   "source": [
    "import numpy as np\n",
    "import pandas as pd"
   ]
  },
  {
   "cell_type": "code",
   "execution_count": 112,
   "id": "179ff096-00bb-4376-9408-f7d3093eb52f",
   "metadata": {},
   "outputs": [],
   "source": [
    "import tensorflow as tf\n",
    "from tensorflow import keras\n",
    "from tensorflow.keras import layers\n",
    "from tensorflow.keras.models import Sequential\n",
    "from tensorflow.keras.layers import Dense, Input"
   ]
  },
  {
   "cell_type": "code",
   "execution_count": 90,
   "id": "3c011a19-bdc1-4d02-8ca6-ca9f7ca38d1d",
   "metadata": {},
   "outputs": [],
   "source": [
    "from sklearn.model_selection import train_test_split\n",
    "from sklearn.metrics import mean_absolute_error"
   ]
  },
  {
   "cell_type": "code",
   "execution_count": 98,
   "id": "b6d42f7f-dba7-4b44-810d-6eaa9af37fe7",
   "metadata": {},
   "outputs": [],
   "source": [
    "data=pd.read_csv('data_stocks.csv')\n"
   ]
  },
  {
   "cell_type": "code",
   "execution_count": 99,
   "id": "67414c18-81fc-4b75-9336-53aab1b66e70",
   "metadata": {},
   "outputs": [],
   "source": [
    "X = data.iloc[:, :-1].values\n",
    "y = data.iloc[:, -1].values"
   ]
  },
  {
   "cell_type": "code",
   "execution_count": 102,
   "id": "429ed582-5038-4dbc-883f-1508912ebe73",
   "metadata": {},
   "outputs": [],
   "source": [
    "X_train, X_test, y_train, y_test = train_test_split(X, y, test_size=0.2, random_state=42)\n"
   ]
  },
  {
   "cell_type": "code",
   "execution_count": 104,
   "id": "8312cda4-aac0-4527-9fed-ec3388ea6d19",
   "metadata": {},
   "outputs": [],
   "source": [
    "#my student id = 2370814\n",
    "#last 3 digits=814\n",
    "#two times smaller=407\n",
    "\n",
    "layer1 = 814\n",
    "layer2 = 407"
   ]
  },
  {
   "cell_type": "code",
   "execution_count": null,
   "id": "d3eb6f42-2eef-499c-95df-872201473302",
   "metadata": {},
   "outputs": [],
   "source": []
  },
  {
   "cell_type": "code",
   "execution_count": 114,
   "id": "da4e8575-37f9-4799-b047-872ea02e4c4b",
   "metadata": {},
   "outputs": [],
   "source": [
    "model = Sequential()\n",
    "model.add(Input(shape=(X_train.shape[1],)))\n",
    "model.add(Dense(layer1, activation='relu'))\n",
    "model.add(Dense(layer2, activation='relu'))\n",
    "model.add(Dense(1))"
   ]
  },
  {
   "cell_type": "code",
   "execution_count": 116,
   "id": "2306c4cb-6e71-4616-a426-74c137f40bd6",
   "metadata": {},
   "outputs": [],
   "source": [
    "model.compile(optimizer='adam', loss='mse', metrics=['mae'])"
   ]
  },
  {
   "cell_type": "code",
   "execution_count": 118,
   "id": "ea856160-1036-479b-9e65-59a40fefca3d",
   "metadata": {},
   "outputs": [
    {
     "name": "stdout",
     "output_type": "stream",
     "text": [
      "Epoch 1/10\n",
      "\u001b[1m2641/2641\u001b[0m \u001b[32m━━━━━━━━━━━━━━━━━━━━\u001b[0m\u001b[37m\u001b[0m \u001b[1m24s\u001b[0m 9ms/step - loss: 393962955210752.0000 - mae: 4355388.0000 - val_loss: 1852.1022 - val_mae: 41.8736\n",
      "Epoch 2/10\n",
      "\u001b[1m2641/2641\u001b[0m \u001b[32m━━━━━━━━━━━━━━━━━━━━\u001b[0m\u001b[37m\u001b[0m \u001b[1m23s\u001b[0m 9ms/step - loss: 57364489175040.0000 - mae: 1134918.6250 - val_loss: 24.9328 - val_mae: 3.9979\n",
      "Epoch 3/10\n",
      "\u001b[1m2641/2641\u001b[0m \u001b[32m━━━━━━━━━━━━━━━━━━━━\u001b[0m\u001b[37m\u001b[0m \u001b[1m21s\u001b[0m 8ms/step - loss: 92468363264.0000 - mae: 19320.5801 - val_loss: 18.4577 - val_mae: 3.4525\n",
      "Epoch 4/10\n",
      "\u001b[1m2641/2641\u001b[0m \u001b[32m━━━━━━━━━━━━━━━━━━━━\u001b[0m\u001b[37m\u001b[0m \u001b[1m20s\u001b[0m 8ms/step - loss: 239742156800.0000 - mae: 98953.9375 - val_loss: 8988.2529 - val_mae: 94.7052\n",
      "Epoch 5/10\n",
      "\u001b[1m2641/2641\u001b[0m \u001b[32m━━━━━━━━━━━━━━━━━━━━\u001b[0m\u001b[37m\u001b[0m \u001b[1m20s\u001b[0m 8ms/step - loss: 123892948992.0000 - mae: 98397.2969 - val_loss: 76650151936.0000 - val_mae: 276856.8438\n",
      "Epoch 6/10\n",
      "\u001b[1m2641/2641\u001b[0m \u001b[32m━━━━━━━━━━━━━━━━━━━━\u001b[0m\u001b[37m\u001b[0m \u001b[1m21s\u001b[0m 8ms/step - loss: 41383440384.0000 - mae: 49675.1602 - val_loss: 29.7080 - val_mae: 3.9528\n",
      "Epoch 7/10\n",
      "\u001b[1m2641/2641\u001b[0m \u001b[32m━━━━━━━━━━━━━━━━━━━━\u001b[0m\u001b[37m\u001b[0m \u001b[1m20s\u001b[0m 8ms/step - loss: 238822272.0000 - mae: 2304.7847 - val_loss: 5258037248.0000 - val_mae: 72512.0938\n",
      "Epoch 8/10\n",
      "\u001b[1m2641/2641\u001b[0m \u001b[32m━━━━━━━━━━━━━━━━━━━━\u001b[0m\u001b[37m\u001b[0m \u001b[1m20s\u001b[0m 8ms/step - loss: 718506368.0000 - mae: 4870.2939 - val_loss: 23.5809 - val_mae: 4.5685\n",
      "Epoch 9/10\n",
      "\u001b[1m2641/2641\u001b[0m \u001b[32m━━━━━━━━━━━━━━━━━━━━\u001b[0m\u001b[37m\u001b[0m \u001b[1m21s\u001b[0m 8ms/step - loss: 1050626.3750 - mae: 92.3594 - val_loss: 416.9288 - val_mae: 20.1053\n",
      "Epoch 10/10\n",
      "\u001b[1m2641/2641\u001b[0m \u001b[32m━━━━━━━━━━━━━━━━━━━━\u001b[0m\u001b[37m\u001b[0m \u001b[1m20s\u001b[0m 8ms/step - loss: 114727328.0000 - mae: 1538.0713 - val_loss: 155.9030 - val_mae: 12.1221\n"
     ]
    }
   ],
   "source": [
    "history = model.fit(X_train, y_train, batch_size=10, epochs=10, validation_split=0.2, verbose=1)"
   ]
  },
  {
   "cell_type": "code",
   "execution_count": 122,
   "id": "80527efc-b68d-4040-a4da-8efe28620e82",
   "metadata": {},
   "outputs": [
    {
     "name": "stdout",
     "output_type": "stream",
     "text": [
      "Mean absolute error : 12.04776\n",
      "Mean squared error : 154.36179\n"
     ]
    }
   ],
   "source": [
    "mse, mae=model.evaluate(X_test, y_test, verbose=0)\n",
    "print(\"Mean absolute error : %.5f\" %mae)\n",
    "print(\"Mean squared error : %.5f\" %mse)"
   ]
  },
  {
   "cell_type": "code",
   "execution_count": 126,
   "id": "a5d499af-5701-4546-b9bb-1531ee9526d4",
   "metadata": {},
   "outputs": [
    {
     "ename": "SyntaxError",
     "evalue": "unterminated string literal (detected at line 2) (36890119.py, line 2)",
     "output_type": "error",
     "traceback": [
      "\u001b[1;36m  Cell \u001b[1;32mIn[126], line 2\u001b[1;36m\u001b[0m\n\u001b[1;33m    print(practical MAE:{practical_mae}')\u001b[0m\n\u001b[1;37m                                       ^\u001b[0m\n\u001b[1;31mSyntaxError\u001b[0m\u001b[1;31m:\u001b[0m unterminated string literal (detected at line 2)\n"
     ]
    }
   ],
   "source": [
    "practical_mae=0.02944\n",
    "print(practical MAE:{practical_mae}')\n",
    "print(f'Current MAE:{mae}')"
   ]
  },
  {
   "cell_type": "code",
   "execution_count": null,
   "id": "1abafb8c-8525-46eb-9ff6-58e17725031a",
   "metadata": {},
   "outputs": [],
   "source": []
  }
 ],
 "metadata": {
  "kernelspec": {
   "display_name": "Python 3 (ipykernel)",
   "language": "python",
   "name": "python3"
  },
  "language_info": {
   "codemirror_mode": {
    "name": "ipython",
    "version": 3
   },
   "file_extension": ".py",
   "mimetype": "text/x-python",
   "name": "python",
   "nbconvert_exporter": "python",
   "pygments_lexer": "ipython3",
   "version": "3.12.4"
  }
 },
 "nbformat": 4,
 "nbformat_minor": 5
}
