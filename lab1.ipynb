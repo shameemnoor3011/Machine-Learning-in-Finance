{
 "cells": [
  {
   "cell_type": "code",
   "execution_count": 28,
   "id": "75fe430f-66d6-4a16-a32c-9a51ffde6a99",
   "metadata": {},
   "outputs": [],
   "source": [
    "import numpy as np"
   ]
  },
  {
   "cell_type": "code",
   "execution_count": 104,
   "id": "0c8af19e-5ab9-4b4c-8eca-6cc626a317c7",
   "metadata": {},
   "outputs": [
    {
     "name": "stdin",
     "output_type": "stream",
     "text": [
      "Enter your Student ID:  2370814\n"
     ]
    }
   ],
   "source": [
    "sid = input(\"Enter your Student ID: \")"
   ]
  },
  {
   "cell_type": "code",
   "execution_count": 78,
   "id": "c82d7055-5c96-47ca-b32f-a2ba915c28d9",
   "metadata": {},
   "outputs": [],
   "source": [
    "lastnums = int(sid[-2:])"
   ]
  },
  {
   "cell_type": "code",
   "execution_count": 80,
   "id": "4736f5e3-e364-48c2-8457-7866f3ab8d81",
   "metadata": {},
   "outputs": [],
   "source": [
    "if lastnums < 10:\n",
    "    num = lastnums + 100\n",
    "else:\n",
    "    num = lastnums"
   ]
  },
  {
   "cell_type": "code",
   "execution_count": 82,
   "id": "77347a32-623e-4755-b9e9-e353d5b76093",
   "metadata": {},
   "outputs": [],
   "source": [
    "vector = np.arange(num)"
   ]
  },
  {
   "cell_type": "code",
   "execution_count": 84,
   "id": "acbc9889-24e6-4138-91c8-9c1673d3259d",
   "metadata": {},
   "outputs": [
    {
     "name": "stdout",
     "output_type": "stream",
     "text": [
      "Vector: [ 0  1  2  3  4  5  6  7  8  9 10 11 12 13]\n"
     ]
    }
   ],
   "source": [
    "print(\"Vector:\", vector)"
   ]
  },
  {
   "cell_type": "code",
   "execution_count": 86,
   "id": "263d87f3-5f9a-405d-9f8c-a4d2973b4839",
   "metadata": {},
   "outputs": [],
   "source": [
    "a = vector.reshape(1, -1)"
   ]
  },
  {
   "cell_type": "code",
   "execution_count": 98,
   "id": "97938224-3d42-4bad-873d-b434f2960b76",
   "metadata": {},
   "outputs": [
    {
     "name": "stdout",
     "output_type": "stream",
     "text": [
      "2-D array with 1 row: [[ 0  1  2  3  4  5  6  7  8  9 10 11 12 13]]\n"
     ]
    }
   ],
   "source": [
    "print(\"2-D array with 1 row:\", a)"
   ]
  },
  {
   "cell_type": "code",
   "execution_count": 90,
   "id": "b5ac422b-491d-44af-b32e-d19ac0ddb8d3",
   "metadata": {},
   "outputs": [],
   "source": [
    "save = a.copy()"
   ]
  },
  {
   "cell_type": "code",
   "execution_count": 106,
   "id": "6a94cf06-df37-4b32-9ade-956272977479",
   "metadata": {},
   "outputs": [
    {
     "name": "stdout",
     "output_type": "stream",
     "text": [
      "new array: [[ 0  1  2  3  4  5  6  7  8  9 10 11 12 13]]\n"
     ]
    }
   ],
   "source": [
    "print(\"new array:\", save)"
   ]
  },
  {
   "cell_type": "code",
   "execution_count": 94,
   "id": "93d1c888-bcc0-4469-97fd-3285c0a04fc0",
   "metadata": {},
   "outputs": [],
   "source": [
    "shape = save.shape"
   ]
  },
  {
   "cell_type": "code",
   "execution_count": 108,
   "id": "83dee22b-5eba-4a08-b56c-8bb479fcfbb3",
   "metadata": {},
   "outputs": [
    {
     "name": "stdout",
     "output_type": "stream",
     "text": [
      "Shape attribute value: (1, 14)\n"
     ]
    }
   ],
   "source": [
    "print(\"Shape attribute value:\", shape)"
   ]
  }
 ],
 "metadata": {
  "kernelspec": {
   "display_name": "Python 3 (ipykernel)",
   "language": "python",
   "name": "python3"
  },
  "language_info": {
   "codemirror_mode": {
    "name": "ipython",
    "version": 3
   },
   "file_extension": ".py",
   "mimetype": "text/x-python",
   "name": "python",
   "nbconvert_exporter": "python",
   "pygments_lexer": "ipython3",
   "version": "3.12.4"
  }
 },
 "nbformat": 4,
 "nbformat_minor": 5
}
